{
 "metadata": {
  "kernelspec": {
   "codemirror_mode": {
    "name": "ipython",
    "version": 2
   },
   "display_name": "IPython (Python 2)",
   "language": "python",
   "name": "python2"
  },
  "name": "",
  "signature": "sha256:eaf344cb962332bfede668a92eb983fba927fea4a244305f8ba3b9dcf02dcb61"
 },
 "nbformat": 3,
 "nbformat_minor": 0,
 "worksheets": [
  {
   "cells": [
    {
     "cell_type": "markdown",
     "metadata": {},
     "source": [
      "How to use control in notebook"
     ]
    },
    {
     "cell_type": "code",
     "collapsed": false,
     "input": [
      "from openalea.core.control import Control\n",
      "from openalea.oalab.service.notebook_control import notebook_editor, select_default_widgets\n",
      "from openalea.core.service.control import new_control\n",
      "from IPython.display import display\n",
      "%load_ext autoreload\n",
      "%autoreload"
     ],
     "language": "python",
     "metadata": {},
     "outputs": [],
     "prompt_number": 1
    },
    {
     "cell_type": "markdown",
     "metadata": {},
     "source": [
      "Display preference widget to allow user to choose wich widget he want to use to edit controls"
     ]
    },
    {
     "cell_type": "code",
     "collapsed": false,
     "input": [
      "pref = select_default_widgets()"
     ],
     "language": "python",
     "metadata": {},
     "outputs": [],
     "prompt_number": 2
    },
    {
     "cell_type": "markdown",
     "metadata": {},
     "source": [
      "Now, let's create 3 control explicitly by giving a name, an interface name and an initial value"
     ]
    },
    {
     "cell_type": "code",
     "collapsed": false,
     "input": [
      "c1 = Control('c', 'IInt', 5)\n",
      "c2 = Control('html', 'IStr', \"<b>Control</b> sample\")\n",
      "c3 = Control('html', 'IBool', True)\n",
      "for c in (c1, c2, c3):\n",
      "    widget = notebook_editor(c)\n",
      "    display(widget)"
     ],
     "language": "python",
     "metadata": {},
     "outputs": [],
     "prompt_number": 3
    },
    {
     "cell_type": "markdown",
     "metadata": {},
     "source": [
      "Second approach is to use control service to create new control just giving its name and initial value.\n",
      "Interface is defined from initial value."
     ]
    },
    {
     "cell_type": "markdown",
     "metadata": {},
     "source": [
      "Create widgets (using arbitrary widgets representation)"
     ]
    },
    {
     "cell_type": "code",
     "collapsed": false,
     "input": [
      "for value in (5, \"<b>Hello</b>\", True):\n",
      "    widget = notebook_editor(new_control('c', value=value))\n",
      "    display(widget)"
     ],
     "language": "python",
     "metadata": {},
     "outputs": [],
     "prompt_number": 4
    },
    {
     "cell_type": "markdown",
     "metadata": {},
     "source": [
      "This time, we want to create widgets using representation chosen in preferences"
     ]
    },
    {
     "cell_type": "code",
     "collapsed": false,
     "input": [
      "control = new_control('text', value=\"Text <b>Ok</b>\")\n",
      "widget = notebook_editor(control, preferences=pref)\n",
      "display(widget)"
     ],
     "language": "python",
     "metadata": {},
     "outputs": [],
     "prompt_number": 6
    },
    {
     "cell_type": "markdown",
     "metadata": {},
     "source": [
      "Last step, check control are well synchronized"
     ]
    },
    {
     "cell_type": "code",
     "collapsed": false,
     "input": [
      "from IPython.html.widgets import TextWidget, TextareaWidget\n",
      "control = new_control('text', value=\"$$\\sum _{i=1}^3x_i$$\")\n",
      "w1 = notebook_editor(control, preferred=TextareaWidget)\n",
      "w2 = notebook_editor(control, preferences=pref)"
     ],
     "language": "python",
     "metadata": {},
     "outputs": [],
     "prompt_number": 7
    },
    {
     "cell_type": "code",
     "collapsed": false,
     "input": [
      "display(w1)\n",
      "display(w2)"
     ],
     "language": "python",
     "metadata": {},
     "outputs": [],
     "prompt_number": 8
    },
    {
     "cell_type": "code",
     "collapsed": false,
     "input": [
      "control = new_control('int', value=1)\n",
      "w1 = notebook_editor(control)\n",
      "w2 = notebook_editor(control)\n",
      "display(w1)\n",
      "display(w2)"
     ],
     "language": "python",
     "metadata": {},
     "outputs": [],
     "prompt_number": 11
    },
    {
     "cell_type": "code",
     "collapsed": false,
     "input": [
      "from IPython.display import Latex\n",
      "Latex(\"$$\\sum _{i=1}^3x_i$$\")"
     ],
     "language": "python",
     "metadata": {},
     "outputs": [
      {
       "latex": [
        "$$\\sum _{i=1}^3x_i$$"
       ],
       "metadata": {},
       "output_type": "pyout",
       "prompt_number": 12,
       "text": [
        "<IPython.core.display.Latex at 0x7f53ddcb9650>"
       ]
      }
     ],
     "prompt_number": 12
    },
    {
     "cell_type": "markdown",
     "metadata": {},
     "source": [
      "Formule $\\sum _{i=1}^3x_i$ ok!\n",
      "\n",
      "\n"
     ]
    }
   ],
   "metadata": {}
  }
 ]
}