{
 "metadata": {
  "kernelspec": {
   "codemirror_mode": {
    "name": "ipython",
    "version": 2
   },
   "display_name": "IPython (Python 2)",
   "language": "python",
   "name": "python2"
  },
  "name": "",
  "signature": "sha256:dc810faa619e3d62b05478647fd17096ff23b678b377f6a339512c2db36ca7ec"
 },
 "nbformat": 3,
 "nbformat_minor": 0,
 "worksheets": [
  {
   "cells": [
    {
     "cell_type": "code",
     "collapsed": false,
     "input": [
      "import ast\n",
      "from IPython.html import widgets\n",
      "from IPython.display import display\n",
      "from skimage import data\n",
      "\n",
      "\n",
      "image = data.camera()"
     ],
     "language": "python",
     "metadata": {},
     "outputs": [],
     "prompt_number": 40
    },
    {
     "cell_type": "code",
     "collapsed": false,
     "input": [
      "values = dict(\n",
      "    bool=True,\n",
      "    float=10.23,\n",
      "    int=1,\n",
      "#    image=image,\n",
      "    string=\"hello <b>guy</b>\",\n",
      ")"
     ],
     "language": "python",
     "metadata": {},
     "outputs": [],
     "prompt_number": 53
    },
    {
     "cell_type": "code",
     "collapsed": false,
     "input": [
      "def on_changed(*args):\n",
      "    print args"
     ],
     "language": "python",
     "metadata": {},
     "outputs": [],
     "prompt_number": 54
    },
    {
     "cell_type": "code",
     "collapsed": false,
     "input": [
      "for wmname in dir(widgets):\n",
      "    if wmname.startswith('widget_'):\n",
      "        dtype = wmname.split('widget_')[1]\n",
      "        print dtype\n",
      "        submodule = getattr(widgets, wmname)\n",
      "        for wname in dir(submodule):\n",
      "            if not wname.startswith('_') and wname.endswith('Widget') and wname not in ('DOMWidget', 'ContainerWidget'):\n",
      "                print '  -', wname,\n",
      "                wclass = getattr(submodule, wname)\n",
      "                if dtype in values:\n",
      "                    w = wclass(value=values[dtype])\n",
      "                    #w.on_trait_change('value', on_changed)\n",
      "                    print\n",
      "                    display(w)\n",
      "                else:\n",
      "                    print"
     ],
     "language": "python",
     "metadata": {},
     "outputs": [
      {
       "output_type": "stream",
       "stream": "stdout",
       "text": [
        "bool\n",
        "  - CheckboxWidget\n",
        "  - ToggleButtonWidget\n",
        "button\n",
        "  - ButtonWidget\n",
        "container\n",
        "  - PopupWidget\n",
        "float\n",
        "  - BoundedFloatTextWidget\n",
        "  - FloatProgressWidget\n",
        "  - FloatSliderWidget\n",
        "  - FloatTextWidget\n",
        "image\n",
        "  - ImageWidget\n",
        "int\n",
        "  - BoundedIntTextWidget\n",
        "  - IntProgressWidget\n",
        "  - IntSliderWidget\n",
        "  - IntTextWidget\n",
        "selection\n",
        "  - DropdownWidget\n",
        "  - RadioButtonsWidget\n",
        "  - SelectWidget\n",
        "  - ToggleButtonsWidget\n",
        "selectioncontainer\n",
        "  - AccordionWidget\n",
        "  - TabWidget\n",
        "string\n",
        "  - HTMLWidget\n",
        "  - LatexWidget\n",
        "  - TextWidget\n",
        "  - TextareaWidget\n"
       ]
      }
     ],
     "prompt_number": 64
    },
    {
     "cell_type": "code",
     "collapsed": false,
     "input": [
      "w = widgets.SelectWidget(values=(dict(a=1,b=2)))\n",
      "w"
     ],
     "language": "python",
     "metadata": {},
     "outputs": [],
     "prompt_number": 62
    },
    {
     "cell_type": "code",
     "collapsed": false,
     "input": [
      "w.value"
     ],
     "language": "python",
     "metadata": {},
     "outputs": [
      {
       "metadata": {},
       "output_type": "pyout",
       "prompt_number": 63,
       "text": [
        "1"
       ]
      }
     ],
     "prompt_number": 63
    },
    {
     "cell_type": "code",
     "collapsed": false,
     "input": [],
     "language": "python",
     "metadata": {},
     "outputs": []
    }
   ],
   "metadata": {}
  }
 ]
}